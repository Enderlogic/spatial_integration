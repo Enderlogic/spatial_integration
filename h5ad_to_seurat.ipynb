{
 "cells": [
  {
   "cell_type": "markdown",
   "id": "d94f83ba",
   "metadata": {},
   "source": [
    "My opinion: learn to use scanpy instead\n",
    "\n",
    "scanpy is great and integrates with machine learning very nicely, eg scVI tools, scArches, etc"
   ]
  },
  {
   "cell_type": "code",
   "id": "b1457418",
   "metadata": {
    "jupyter": {
     "is_executing": true
    },
    "ExecuteTime": {
     "start_time": "2024-11-08T08:35:57.053618Z"
    }
   },
   "source": [
    "import pandas\n",
    "import scanpy as sc\n",
    "from scipy import io\n",
    "import numpy as np\n",
    "!mkdir Dataset/human_lymph_node/ST_matrix_files\n",
    "adata = sc.read_h5ad('Dataset/human_lymph_node/adata_RNA.h5ad')\n",
    "adata.var_names_make_unique()\n",
    "with open('Dataset/human_lymph_node/ST_matrix_files/barcodes.tsv', 'w') as f:\n",
    "    for item in adata.obs_names:\n",
    "        f.write(item + '\\n')\n",
    "with open('Dataset/human_lymph_node/ST_matrix_files/features.tsv', 'w') as f:\n",
    "    for item in ['\\t'.join([x,x,'Gene Expression']) for x in adata.var_names]:\n",
    "        f.write(item + '\\n')\n",
    "io.mmwrite('Dataset/human_lymph_node_rep1/ST_matrix_files/matrix.mtx', adata.X.T)\n",
    "!ls Dataset/human_lymph_node/ST_matrix_files/\n",
    "!gzip Dataset/human_lymph_node/ST_matrix_files/*\n",
    "!ls Dataset/human_lymph_node/ST_matrix_files/\n",
    "adata.obs.to_csv('Dataset/human_lymph_node_rep1/ST_metadata.csv')\n",
    "spatial_location = pandas.DataFrame(adata.obsm['spatial'], index=adata.obs_names, columns=['x', 'y'])\n",
    "spatial_location.to_csv('Dataset/human_lymph_node_rep1/ST_spatial_location.csv')"
   ],
   "outputs": [
    {
     "name": "stderr",
     "output_type": "stream",
     "text": [
      "/opt/anaconda3/envs/spatial/lib/python3.11/site-packages/anndata/_core/anndata.py:1756: UserWarning: Variable names are not unique. To make them unique, call `.var_names_make_unique`.\n",
      "  utils.warn_names_duplicates(\"var\")\n"
     ]
    },
    {
     "name": "stdout",
     "output_type": "stream",
     "text": [
      "barcodes.tsv features.tsv matrix.mtx\r\n",
      "barcodes.tsv.gz features.tsv.gz matrix.mtx.gz\r\n"
     ]
    }
   ],
   "execution_count": null
  },
  {
   "cell_type": "code",
   "id": "6bbf5690",
   "metadata": {
    "ExecuteTime": {
     "end_time": "2024-11-08T08:25:55.489427Z",
     "start_time": "2024-11-08T08:25:05.268246Z"
    }
   },
   "source": [
    "!mkdir Dataset/human_lymph_node/scrna_matrix_files\n",
    "adata = sc.read_h5ad('Dataset/human_lymph_node/adata_scrna.h5ad')\n",
    "adata.var_names_make_unique()\n",
    "with open('Dataset/human_lymph_node/scrna_matrix_files/barcodes.tsv', 'w') as f:\n",
    "    for item in adata.obs_names:\n",
    "        f.write(item + '\\n')\n",
    "with open('Dataset/human_lymph_node/scrna_matrix_files/features.tsv', 'w') as f:\n",
    "    for item in ['\\t'.join([x,x,'Gene Expression']) for x in adata.var_names]:\n",
    "        f.write(item + '\\n')\n",
    "io.mmwrite('Dataset/human_lymph_node_rep1/scrna_matrix_files/matrix.mtx', adata.X.T)\n",
    "!ls Dataset/human_lymph_node/scrna_matrix_files/\n",
    "!gzip Dataset/human_lymph_node/scrna_matrix_files/*\n",
    "!ls Dataset/human_lymph_node/scrna_matrix_files/\n",
    "adata.obs.to_csv('Dataset/human_lymph_node_rep1/scrna_metadata.csv')"
   ],
   "outputs": [
    {
     "name": "stdout",
     "output_type": "stream",
     "text": [
      "barcodes.tsv features.tsv matrix.mtx\r\n",
      "barcodes.tsv.gz features.tsv.gz matrix.mtx.gz\r\n"
     ]
    }
   ],
   "execution_count": 18
  },
  {
   "metadata": {},
   "cell_type": "code",
   "outputs": [],
   "execution_count": null,
   "source": "",
   "id": "ada50ecf248c50c8"
  }
 ],
 "metadata": {
  "kernelspec": {
   "display_name": "Python 3 (ipykernel)",
   "language": "python",
   "name": "python3"
  },
  "language_info": {
   "codemirror_mode": {
    "name": "ipython",
    "version": 3
   },
   "file_extension": ".py",
   "mimetype": "text/x-python",
   "name": "python",
   "nbconvert_exporter": "python",
   "pygments_lexer": "ipython3",
   "version": "3.9.12"
  }
 },
 "nbformat": 4,
 "nbformat_minor": 5
}
